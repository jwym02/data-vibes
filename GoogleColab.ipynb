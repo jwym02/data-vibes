{
  "nbformat": 4,
  "nbformat_minor": 0,
  "metadata": {
    "colab": {
      "provenance": [],
      "toc_visible": true,
      "include_colab_link": true
    },
    "kernelspec": {
      "name": "python3",
      "display_name": "Python 3"
    },
    "language_info": {
      "name": "python"
    }
  },
  "cells": [
    {
      "cell_type": "markdown",
      "metadata": {
        "id": "view-in-github",
        "colab_type": "text"
      },
      "source": [
        "<a href=\"https://colab.research.google.com/github/jwym02/data-vibes/blob/main/GoogleColab.ipynb\" target=\"_parent\"><img src=\"https://colab.research.google.com/assets/colab-badge.svg\" alt=\"Open In Colab\"/></a>"
      ]
    },
    {
      "cell_type": "code",
      "source": [
        "import pandas as pd\n",
        "import matplotlib as plt\n",
        "import networkx as nx\n",
        "import numpy as np\n",
        "from sklearn.feature_extraction.text import CountVectorizer\n",
        "import re\n",
        "import nltk\n",
        "from nltk.stem import WordNetLemmatizer"
      ],
      "metadata": {
        "id": "hhpuWpu5MNeW"
      },
      "execution_count": null,
      "outputs": []
    },
    {
      "cell_type": "code",
      "source": [
        "# Download necessary NLTK data files (if not already available)\n",
        "nltk.download('wordnet')\n",
        "nltk.download('omw-1.4')"
      ],
      "metadata": {
        "colab": {
          "base_uri": "https://localhost:8080/"
        },
        "id": "gJPdAYRAOPz5",
        "outputId": "eb4b2a42-9cbc-402a-c474-aa4d0fbf8e05"
      },
      "execution_count": null,
      "outputs": [
        {
          "output_type": "stream",
          "name": "stderr",
          "text": [
            "[nltk_data] Downloading package wordnet to /root/nltk_data...\n",
            "[nltk_data]   Package wordnet is already up-to-date!\n",
            "[nltk_data] Downloading package omw-1.4 to /root/nltk_data...\n",
            "[nltk_data]   Package omw-1.4 is already up-to-date!\n"
          ]
        },
        {
          "output_type": "execute_result",
          "data": {
            "text/plain": [
              "True"
            ]
          },
          "metadata": {},
          "execution_count": 19
        }
      ]
    },
    {
      "cell_type": "code",
      "source": [
        "# Load the first Excel file\n",
        "wikileaks_path = \"wikileaks_parsed.xlsx\"\n",
        "wikileaks_df = pd.read_excel(wikileaks_path)\n",
        "\n",
        "# Load the second Excel file\n",
        "news_path = \"news_excerpts_parsed.xlsx\"\n",
        "news_df = pd.read_excel(news_path)"
      ],
      "metadata": {
        "id": "irOEa7RdNCvM"
      },
      "execution_count": null,
      "outputs": []
    },
    {
      "cell_type": "code",
      "source": [
        "# Display a summary of both datasets to understand their structure and content\n",
        "wikileaks_summary = wikileaks_df.head()\n",
        "news_excerpts_summary = news_df.head()\n"
      ],
      "metadata": {
        "id": "CshtjFw6NKsw"
      },
      "execution_count": null,
      "outputs": []
    },
    {
      "cell_type": "code",
      "source": [
        "wikileaks_summary\n",
        "news_excerpts_summary"
      ],
      "metadata": {
        "colab": {
          "base_uri": "https://localhost:8080/",
          "height": 206
        },
        "id": "p6aRmXZhNNwe",
        "outputId": "4214ac50-a73c-4602-9cb0-54f7bf3a8eb7"
      },
      "execution_count": null,
      "outputs": [
        {
          "output_type": "execute_result",
          "data": {
            "text/plain": [
              "                                                Link  \\\n",
              "0  https://edition.cnn.com/2023/09/29/business/st...   \n",
              "1  https://www.channelnewsasia.com/singapore/su-w...   \n",
              "2  https://edition.cnn.com/2023/05/22/tech/meta-f...   \n",
              "3  https://www.channelnewsasia.com/singapore/bill...   \n",
              "4  https://edition.cnn.com/2024/03/05/politics/li...   \n",
              "\n",
              "                                                Text  \n",
              "0  Starbucks violated federal labor law when it i...  \n",
              "1  The first suspect to plead guilty in Singapore...  \n",
              "2  Meta has been fined a record-breaking €1.2 bil...  \n",
              "3  SINGAPORE: A 45-year-old man linked to Singapo...  \n",
              "4  The Department of Education imposed a record $...  "
            ],
            "text/html": [
              "\n",
              "  <div id=\"df-bf97c980-3ba1-4e25-99f8-adc9791c793c\" class=\"colab-df-container\">\n",
              "    <div>\n",
              "<style scoped>\n",
              "    .dataframe tbody tr th:only-of-type {\n",
              "        vertical-align: middle;\n",
              "    }\n",
              "\n",
              "    .dataframe tbody tr th {\n",
              "        vertical-align: top;\n",
              "    }\n",
              "\n",
              "    .dataframe thead th {\n",
              "        text-align: right;\n",
              "    }\n",
              "</style>\n",
              "<table border=\"1\" class=\"dataframe\">\n",
              "  <thead>\n",
              "    <tr style=\"text-align: right;\">\n",
              "      <th></th>\n",
              "      <th>Link</th>\n",
              "      <th>Text</th>\n",
              "    </tr>\n",
              "  </thead>\n",
              "  <tbody>\n",
              "    <tr>\n",
              "      <th>0</th>\n",
              "      <td>https://edition.cnn.com/2023/09/29/business/st...</td>\n",
              "      <td>Starbucks violated federal labor law when it i...</td>\n",
              "    </tr>\n",
              "    <tr>\n",
              "      <th>1</th>\n",
              "      <td>https://www.channelnewsasia.com/singapore/su-w...</td>\n",
              "      <td>The first suspect to plead guilty in Singapore...</td>\n",
              "    </tr>\n",
              "    <tr>\n",
              "      <th>2</th>\n",
              "      <td>https://edition.cnn.com/2023/05/22/tech/meta-f...</td>\n",
              "      <td>Meta has been fined a record-breaking €1.2 bil...</td>\n",
              "    </tr>\n",
              "    <tr>\n",
              "      <th>3</th>\n",
              "      <td>https://www.channelnewsasia.com/singapore/bill...</td>\n",
              "      <td>SINGAPORE: A 45-year-old man linked to Singapo...</td>\n",
              "    </tr>\n",
              "    <tr>\n",
              "      <th>4</th>\n",
              "      <td>https://edition.cnn.com/2024/03/05/politics/li...</td>\n",
              "      <td>The Department of Education imposed a record $...</td>\n",
              "    </tr>\n",
              "  </tbody>\n",
              "</table>\n",
              "</div>\n",
              "    <div class=\"colab-df-buttons\">\n",
              "\n",
              "  <div class=\"colab-df-container\">\n",
              "    <button class=\"colab-df-convert\" onclick=\"convertToInteractive('df-bf97c980-3ba1-4e25-99f8-adc9791c793c')\"\n",
              "            title=\"Convert this dataframe to an interactive table.\"\n",
              "            style=\"display:none;\">\n",
              "\n",
              "  <svg xmlns=\"http://www.w3.org/2000/svg\" height=\"24px\" viewBox=\"0 -960 960 960\">\n",
              "    <path d=\"M120-120v-720h720v720H120Zm60-500h600v-160H180v160Zm220 220h160v-160H400v160Zm0 220h160v-160H400v160ZM180-400h160v-160H180v160Zm440 0h160v-160H620v160ZM180-180h160v-160H180v160Zm440 0h160v-160H620v160Z\"/>\n",
              "  </svg>\n",
              "    </button>\n",
              "\n",
              "  <style>\n",
              "    .colab-df-container {\n",
              "      display:flex;\n",
              "      gap: 12px;\n",
              "    }\n",
              "\n",
              "    .colab-df-convert {\n",
              "      background-color: #E8F0FE;\n",
              "      border: none;\n",
              "      border-radius: 50%;\n",
              "      cursor: pointer;\n",
              "      display: none;\n",
              "      fill: #1967D2;\n",
              "      height: 32px;\n",
              "      padding: 0 0 0 0;\n",
              "      width: 32px;\n",
              "    }\n",
              "\n",
              "    .colab-df-convert:hover {\n",
              "      background-color: #E2EBFA;\n",
              "      box-shadow: 0px 1px 2px rgba(60, 64, 67, 0.3), 0px 1px 3px 1px rgba(60, 64, 67, 0.15);\n",
              "      fill: #174EA6;\n",
              "    }\n",
              "\n",
              "    .colab-df-buttons div {\n",
              "      margin-bottom: 4px;\n",
              "    }\n",
              "\n",
              "    [theme=dark] .colab-df-convert {\n",
              "      background-color: #3B4455;\n",
              "      fill: #D2E3FC;\n",
              "    }\n",
              "\n",
              "    [theme=dark] .colab-df-convert:hover {\n",
              "      background-color: #434B5C;\n",
              "      box-shadow: 0px 1px 3px 1px rgba(0, 0, 0, 0.15);\n",
              "      filter: drop-shadow(0px 1px 2px rgba(0, 0, 0, 0.3));\n",
              "      fill: #FFFFFF;\n",
              "    }\n",
              "  </style>\n",
              "\n",
              "    <script>\n",
              "      const buttonEl =\n",
              "        document.querySelector('#df-bf97c980-3ba1-4e25-99f8-adc9791c793c button.colab-df-convert');\n",
              "      buttonEl.style.display =\n",
              "        google.colab.kernel.accessAllowed ? 'block' : 'none';\n",
              "\n",
              "      async function convertToInteractive(key) {\n",
              "        const element = document.querySelector('#df-bf97c980-3ba1-4e25-99f8-adc9791c793c');\n",
              "        const dataTable =\n",
              "          await google.colab.kernel.invokeFunction('convertToInteractive',\n",
              "                                                    [key], {});\n",
              "        if (!dataTable) return;\n",
              "\n",
              "        const docLinkHtml = 'Like what you see? Visit the ' +\n",
              "          '<a target=\"_blank\" href=https://colab.research.google.com/notebooks/data_table.ipynb>data table notebook</a>'\n",
              "          + ' to learn more about interactive tables.';\n",
              "        element.innerHTML = '';\n",
              "        dataTable['output_type'] = 'display_data';\n",
              "        await google.colab.output.renderOutput(dataTable, element);\n",
              "        const docLink = document.createElement('div');\n",
              "        docLink.innerHTML = docLinkHtml;\n",
              "        element.appendChild(docLink);\n",
              "      }\n",
              "    </script>\n",
              "  </div>\n",
              "\n",
              "\n",
              "<div id=\"df-47a739d2-ea3f-44e5-ad13-7ef1c472c4ae\">\n",
              "  <button class=\"colab-df-quickchart\" onclick=\"quickchart('df-47a739d2-ea3f-44e5-ad13-7ef1c472c4ae')\"\n",
              "            title=\"Suggest charts\"\n",
              "            style=\"display:none;\">\n",
              "\n",
              "<svg xmlns=\"http://www.w3.org/2000/svg\" height=\"24px\"viewBox=\"0 0 24 24\"\n",
              "     width=\"24px\">\n",
              "    <g>\n",
              "        <path d=\"M19 3H5c-1.1 0-2 .9-2 2v14c0 1.1.9 2 2 2h14c1.1 0 2-.9 2-2V5c0-1.1-.9-2-2-2zM9 17H7v-7h2v7zm4 0h-2V7h2v10zm4 0h-2v-4h2v4z\"/>\n",
              "    </g>\n",
              "</svg>\n",
              "  </button>\n",
              "\n",
              "<style>\n",
              "  .colab-df-quickchart {\n",
              "      --bg-color: #E8F0FE;\n",
              "      --fill-color: #1967D2;\n",
              "      --hover-bg-color: #E2EBFA;\n",
              "      --hover-fill-color: #174EA6;\n",
              "      --disabled-fill-color: #AAA;\n",
              "      --disabled-bg-color: #DDD;\n",
              "  }\n",
              "\n",
              "  [theme=dark] .colab-df-quickchart {\n",
              "      --bg-color: #3B4455;\n",
              "      --fill-color: #D2E3FC;\n",
              "      --hover-bg-color: #434B5C;\n",
              "      --hover-fill-color: #FFFFFF;\n",
              "      --disabled-bg-color: #3B4455;\n",
              "      --disabled-fill-color: #666;\n",
              "  }\n",
              "\n",
              "  .colab-df-quickchart {\n",
              "    background-color: var(--bg-color);\n",
              "    border: none;\n",
              "    border-radius: 50%;\n",
              "    cursor: pointer;\n",
              "    display: none;\n",
              "    fill: var(--fill-color);\n",
              "    height: 32px;\n",
              "    padding: 0;\n",
              "    width: 32px;\n",
              "  }\n",
              "\n",
              "  .colab-df-quickchart:hover {\n",
              "    background-color: var(--hover-bg-color);\n",
              "    box-shadow: 0 1px 2px rgba(60, 64, 67, 0.3), 0 1px 3px 1px rgba(60, 64, 67, 0.15);\n",
              "    fill: var(--button-hover-fill-color);\n",
              "  }\n",
              "\n",
              "  .colab-df-quickchart-complete:disabled,\n",
              "  .colab-df-quickchart-complete:disabled:hover {\n",
              "    background-color: var(--disabled-bg-color);\n",
              "    fill: var(--disabled-fill-color);\n",
              "    box-shadow: none;\n",
              "  }\n",
              "\n",
              "  .colab-df-spinner {\n",
              "    border: 2px solid var(--fill-color);\n",
              "    border-color: transparent;\n",
              "    border-bottom-color: var(--fill-color);\n",
              "    animation:\n",
              "      spin 1s steps(1) infinite;\n",
              "  }\n",
              "\n",
              "  @keyframes spin {\n",
              "    0% {\n",
              "      border-color: transparent;\n",
              "      border-bottom-color: var(--fill-color);\n",
              "      border-left-color: var(--fill-color);\n",
              "    }\n",
              "    20% {\n",
              "      border-color: transparent;\n",
              "      border-left-color: var(--fill-color);\n",
              "      border-top-color: var(--fill-color);\n",
              "    }\n",
              "    30% {\n",
              "      border-color: transparent;\n",
              "      border-left-color: var(--fill-color);\n",
              "      border-top-color: var(--fill-color);\n",
              "      border-right-color: var(--fill-color);\n",
              "    }\n",
              "    40% {\n",
              "      border-color: transparent;\n",
              "      border-right-color: var(--fill-color);\n",
              "      border-top-color: var(--fill-color);\n",
              "    }\n",
              "    60% {\n",
              "      border-color: transparent;\n",
              "      border-right-color: var(--fill-color);\n",
              "    }\n",
              "    80% {\n",
              "      border-color: transparent;\n",
              "      border-right-color: var(--fill-color);\n",
              "      border-bottom-color: var(--fill-color);\n",
              "    }\n",
              "    90% {\n",
              "      border-color: transparent;\n",
              "      border-bottom-color: var(--fill-color);\n",
              "    }\n",
              "  }\n",
              "</style>\n",
              "\n",
              "  <script>\n",
              "    async function quickchart(key) {\n",
              "      const quickchartButtonEl =\n",
              "        document.querySelector('#' + key + ' button');\n",
              "      quickchartButtonEl.disabled = true;  // To prevent multiple clicks.\n",
              "      quickchartButtonEl.classList.add('colab-df-spinner');\n",
              "      try {\n",
              "        const charts = await google.colab.kernel.invokeFunction(\n",
              "            'suggestCharts', [key], {});\n",
              "      } catch (error) {\n",
              "        console.error('Error during call to suggestCharts:', error);\n",
              "      }\n",
              "      quickchartButtonEl.classList.remove('colab-df-spinner');\n",
              "      quickchartButtonEl.classList.add('colab-df-quickchart-complete');\n",
              "    }\n",
              "    (() => {\n",
              "      let quickchartButtonEl =\n",
              "        document.querySelector('#df-47a739d2-ea3f-44e5-ad13-7ef1c472c4ae button');\n",
              "      quickchartButtonEl.style.display =\n",
              "        google.colab.kernel.accessAllowed ? 'block' : 'none';\n",
              "    })();\n",
              "  </script>\n",
              "</div>\n",
              "\n",
              "  <div id=\"id_74238501-653b-43e1-81f9-246075271255\">\n",
              "    <style>\n",
              "      .colab-df-generate {\n",
              "        background-color: #E8F0FE;\n",
              "        border: none;\n",
              "        border-radius: 50%;\n",
              "        cursor: pointer;\n",
              "        display: none;\n",
              "        fill: #1967D2;\n",
              "        height: 32px;\n",
              "        padding: 0 0 0 0;\n",
              "        width: 32px;\n",
              "      }\n",
              "\n",
              "      .colab-df-generate:hover {\n",
              "        background-color: #E2EBFA;\n",
              "        box-shadow: 0px 1px 2px rgba(60, 64, 67, 0.3), 0px 1px 3px 1px rgba(60, 64, 67, 0.15);\n",
              "        fill: #174EA6;\n",
              "      }\n",
              "\n",
              "      [theme=dark] .colab-df-generate {\n",
              "        background-color: #3B4455;\n",
              "        fill: #D2E3FC;\n",
              "      }\n",
              "\n",
              "      [theme=dark] .colab-df-generate:hover {\n",
              "        background-color: #434B5C;\n",
              "        box-shadow: 0px 1px 3px 1px rgba(0, 0, 0, 0.15);\n",
              "        filter: drop-shadow(0px 1px 2px rgba(0, 0, 0, 0.3));\n",
              "        fill: #FFFFFF;\n",
              "      }\n",
              "    </style>\n",
              "    <button class=\"colab-df-generate\" onclick=\"generateWithVariable('news_excerpts_summary')\"\n",
              "            title=\"Generate code using this dataframe.\"\n",
              "            style=\"display:none;\">\n",
              "\n",
              "  <svg xmlns=\"http://www.w3.org/2000/svg\" height=\"24px\"viewBox=\"0 0 24 24\"\n",
              "       width=\"24px\">\n",
              "    <path d=\"M7,19H8.4L18.45,9,17,7.55,7,17.6ZM5,21V16.75L18.45,3.32a2,2,0,0,1,2.83,0l1.4,1.43a1.91,1.91,0,0,1,.58,1.4,1.91,1.91,0,0,1-.58,1.4L9.25,21ZM18.45,9,17,7.55Zm-12,3A5.31,5.31,0,0,0,4.9,8.1,5.31,5.31,0,0,0,1,6.5,5.31,5.31,0,0,0,4.9,4.9,5.31,5.31,0,0,0,6.5,1,5.31,5.31,0,0,0,8.1,4.9,5.31,5.31,0,0,0,12,6.5,5.46,5.46,0,0,0,6.5,12Z\"/>\n",
              "  </svg>\n",
              "    </button>\n",
              "    <script>\n",
              "      (() => {\n",
              "      const buttonEl =\n",
              "        document.querySelector('#id_74238501-653b-43e1-81f9-246075271255 button.colab-df-generate');\n",
              "      buttonEl.style.display =\n",
              "        google.colab.kernel.accessAllowed ? 'block' : 'none';\n",
              "\n",
              "      buttonEl.onclick = () => {\n",
              "        google.colab.notebook.generateWithVariable('news_excerpts_summary');\n",
              "      }\n",
              "      })();\n",
              "    </script>\n",
              "  </div>\n",
              "\n",
              "    </div>\n",
              "  </div>\n"
            ],
            "application/vnd.google.colaboratory.intrinsic+json": {
              "type": "dataframe",
              "variable_name": "news_excerpts_summary",
              "summary": "{\n  \"name\": \"news_excerpts_summary\",\n  \"rows\": 5,\n  \"fields\": [\n    {\n      \"column\": \"Link\",\n      \"properties\": {\n        \"dtype\": \"string\",\n        \"num_unique_values\": 5,\n        \"samples\": [\n          \"https://www.channelnewsasia.com/singapore/su-wenqiang-pleads-guilty-billion-dollar-money-laundering-convicted-4234731\",\n          \"https://edition.cnn.com/2024/03/05/politics/liberty-university-fined-campus-safety/index.html\",\n          \"https://edition.cnn.com/2023/05/22/tech/meta-facebook-data-privacy-eu-fine/index.html\"\n        ],\n        \"semantic_type\": \"\",\n        \"description\": \"\"\n      }\n    },\n    {\n      \"column\": \"Text\",\n      \"properties\": {\n        \"dtype\": \"string\",\n        \"num_unique_values\": 5,\n        \"samples\": [\n          \"The first suspect to plead guilty in Singapore's largest money laundering case was convicted and sentenced to 13 months' jail in a district court on Tuesday (Apr 2).\\n\\nSu Wenqiang, 32, admitted to 11 charges of money laundering, possessing proceeds from illegal remote gambling offences and lying to get work passes for himself and his wife.\\n\\nMore than S$3 billion (US$2.2 billion) in assets have been seized or frozen in relation to the case. This likely makes it one of the largest money laundering operations in the world.\\n\\nSu was among 10 suspects arrested in simultaneous police raids last August. The Cambodian national, whose passport states that he is from Fujian, was nabbed in a Good Class Bungalow along Lewis Road in Bukit Timah.\",\n          \"The Department of Education imposed a record $14 million fine on Liberty University, a Christian college located in Virginia, over violations of a campus safety law, officials said Tuesday.\\n\\nThe Department of Education said it was the largest fine ever imposed for violating the Clery Act, which requires colleges to maintain and disclose campus crime statistics and security information.\\n\\nLiberty University also agreed to spend an additional $2 million to improve on-campus safety over the next two years.\\n\\nThe Department of Education initiated the review in 2022 after receiving complaints that alleged the college committed violations of the Clery Act. The review also followed a 2021 lawsuit, in which 12 women claimed that the school created an environment that increased the likelihood of sexual assault and rape. The case was settled in 2022.\",\n          \"Meta has been fined a record-breaking \\u20ac1.2 billion ($1.3 billion) by European Union regulators for violating EU privacy laws by transferring the personal data of Facebook users to servers in the United States.\\n\\nThe European Data Protection Board announced the fine in a statement Monday, saying it followed an inquiry into Facebook (FB) by the Irish Data Protection Commission, the chief regulator overseeing Meta\\u2019s operations in Europe.\\n\\nThe move highlights ongoing uncertainty about how global businesses may legally transfer EU users\\u2019 data to servers overseas.\\n\\nThe EU regulator said the processing and storage of personal data in the United States contravened Europe\\u2019s signature data privacy law, known as the General Data Protection Regulation. Chapter 5 of the GDPR sets out the conditions under which personal data can be transferred to third countries or international organizations.\"\n        ],\n        \"semantic_type\": \"\",\n        \"description\": \"\"\n      }\n    }\n  ]\n}"
            }
          },
          "metadata": {},
          "execution_count": 13
        }
      ]
    },
    {
      "cell_type": "markdown",
      "source": [
        "Preprocessing\n"
      ],
      "metadata": {
        "id": "zjbh5pFONyV8"
      }
    },
    {
      "cell_type": "code",
      "source": [
        "# Preprocessing function\n",
        "def preprocess_text(text):\n",
        "    # Remove non-alphanumeric characters and lowercase the text\n",
        "    text = re.sub(r'[^a-zA-Z\\s]', '', text)\n",
        "    text = text.lower().strip()\n",
        "    return text\n",
        "\n",
        "# Apply preprocessing steps\n",
        "wikileaks_df['Cleaned_Text'] = wikileaks_df['Text'].apply(preprocess_text)\n",
        "news_df['Cleaned_Text'] = news_df['Text'].apply(preprocess_text)\n",
        "\n",
        "# Remove duplicates and empty rows\n",
        "wikileaks_df = wikileaks_df.drop_duplicates(subset=['Cleaned_Text']).dropna(subset=['Cleaned_Text'])\n",
        "news_df = news_df.drop_duplicates(subset=['Cleaned_Text']).dropna(subset=['Cleaned_Text'])\n",
        "\n",
        "# Initialize lemmatizer\n",
        "lemmatizer = WordNetLemmatizer()\n",
        "\n",
        "# Lemmatization function\n",
        "def lemmatize_text(text):\n",
        "    words = text.split()\n",
        "    lemmatized = [lemmatizer.lemmatize(word) for word in words]\n",
        "    return ' '.join(lemmatized)\n",
        "\n",
        "# Apply lemmatization to the cleaned text\n",
        "wikileaks_df['Lemmatized_Text'] = wikileaks_df['Cleaned_Text'].apply(lemmatize_text)\n",
        "news_df['Lemmatized_Text'] = news_df['Cleaned_Text'].apply(lemmatize_text)\n",
        "\n"
      ],
      "metadata": {
        "id": "76DBVhfaNzsk"
      },
      "execution_count": null,
      "outputs": []
    },
    {
      "cell_type": "code",
      "source": [
        "# Display the lemmatized data for review\n",
        "print(\"Lemmatized Wikileaks Data:\")\n",
        "print(wikileaks_df.head())  # Displays the first 5 rows of the DataFrame\n",
        "\n",
        "print(\"\\nLemmatized News Data:\")\n",
        "print(news_df.head())  # Displays the first 5 rows of the DataFrame\n"
      ],
      "metadata": {
        "colab": {
          "base_uri": "https://localhost:8080/"
        },
        "id": "mLzN4iBlOzmh",
        "outputId": "25582c8d-7bdd-49f4-8f8c-05d2c031588f"
      },
      "execution_count": null,
      "outputs": [
        {
          "output_type": "stream",
          "name": "stdout",
          "text": [
            "Lemmatized Wikileaks Data:\n",
            "  PDF Path                                               Text  \\\n",
            "0    1.pdf  Pristina Airport – Possible administrative irr...   \n",
            "1    1.pdf  Investigative details\\n\\nIn his/her interviews...   \n",
            "2   10.pdf  \"An interoffice memorandum providing an “outst...   \n",
            "3   10.pdf  \"Allegation 2 & 3:\\n\\n(Specifically, three of ...   \n",
            "4   10.pdf  \"When asked about this in interview, the Divis...   \n",
            "\n",
            "                                        Cleaned_Text  \\\n",
            "0  pristina airport  possible administrative irre...   \n",
            "1  investigative details\\n\\nin hisher interviews ...   \n",
            "2  an interoffice memorandum providing an outstan...   \n",
            "3  allegation   \\n\\nspecifically three of the per...   \n",
            "4  when asked about this in interview the divisio...   \n",
            "\n",
            "                                     Lemmatized_Text  \n",
            "0  pristina airport possible administrative irreg...  \n",
            "1  investigative detail in hisher interview condu...  \n",
            "2  an interoffice memorandum providing an outstan...  \n",
            "3  allegation specifically three of the person on...  \n",
            "4  when asked about this in interview the divisio...  \n",
            "\n",
            "Lemmatized News Data:\n",
            "                                                Link  \\\n",
            "0  https://edition.cnn.com/2023/09/29/business/st...   \n",
            "1  https://www.channelnewsasia.com/singapore/su-w...   \n",
            "2  https://edition.cnn.com/2023/05/22/tech/meta-f...   \n",
            "3  https://www.channelnewsasia.com/singapore/bill...   \n",
            "4  https://edition.cnn.com/2024/03/05/politics/li...   \n",
            "\n",
            "                                                Text  \\\n",
            "0  Starbucks violated federal labor law when it i...   \n",
            "1  The first suspect to plead guilty in Singapore...   \n",
            "2  Meta has been fined a record-breaking €1.2 bil...   \n",
            "3  SINGAPORE: A 45-year-old man linked to Singapo...   \n",
            "4  The Department of Education imposed a record $...   \n",
            "\n",
            "                                        Cleaned_Text  \\\n",
            "0  starbucks violated federal labor law when it i...   \n",
            "1  the first suspect to plead guilty in singapore...   \n",
            "2  meta has been fined a recordbreaking  billion ...   \n",
            "3  singapore a yearold man linked to singapores l...   \n",
            "4  the department of education imposed a record  ...   \n",
            "\n",
            "                                     Lemmatized_Text  \n",
            "0  starbucks violated federal labor law when it i...  \n",
            "1  the first suspect to plead guilty in singapore...  \n",
            "2  meta ha been fined a recordbreaking billion bi...  \n",
            "3  singapore a yearold man linked to singapore la...  \n",
            "4  the department of education imposed a record m...  \n"
          ]
        }
      ]
    },
    {
      "cell_type": "code",
      "source": [
        "# Replace '\\n\\n' and '\\n' with a space\n",
        "wikileaks_df['Cleaned_Text'] = wikileaks_df['Cleaned_Text'].str.replace(r'\\n+', ' ', regex=True)\n",
        "news_df['Cleaned_Text'] = news_df['Cleaned_Text'].str.replace(r'\\n+', ' ', regex=True)\n"
      ],
      "metadata": {
        "id": "0VOHpUSmQOOL"
      },
      "execution_count": null,
      "outputs": []
    },
    {
      "cell_type": "code",
      "source": [
        "print(wikileaks_df['Cleaned_Text'].head())\n",
        "print(news_df['Cleaned_Text'].head())"
      ],
      "metadata": {
        "colab": {
          "base_uri": "https://localhost:8080/"
        },
        "id": "GKkH4UxDQQ7n",
        "outputId": "329ebc18-7c84-4952-9f9f-b6d1afd47ab4"
      },
      "execution_count": null,
      "outputs": [
        {
          "output_type": "stream",
          "name": "stdout",
          "text": [
            "0    pristina airport  possible administrative irre...\n",
            "1    investigative details in hisher interviews con...\n",
            "2    an interoffice memorandum providing an outstan...\n",
            "3    allegation    specifically three of the person...\n",
            "4    when asked about this in interview the divisio...\n",
            "Name: Cleaned_Text, dtype: object\n",
            "0    starbucks violated federal labor law when it i...\n",
            "1    the first suspect to plead guilty in singapore...\n",
            "2    meta has been fined a recordbreaking  billion ...\n",
            "3    singapore a yearold man linked to singapores l...\n",
            "4    the department of education imposed a record  ...\n",
            "Name: Cleaned_Text, dtype: object\n"
          ]
        }
      ]
    },
    {
      "cell_type": "code",
      "source": [
        "from nltk.corpus import stopwords\n",
        "\n",
        "# Download the stop words set\n",
        "nltk.download('stopwords')\n",
        "stop_words = set(stopwords.words('english'))\n",
        "\n",
        "# Function to remove stop words\n",
        "def remove_stopwords(text):\n",
        "    words = text.split()\n",
        "    filtered_words = [word for word in words if word not in stop_words]\n",
        "    return ' '.join(filtered_words)\n",
        "\n",
        "# Apply to the cleaned text column\n",
        "wikileaks_df['Text_No_Stopwords'] = wikileaks_df['Cleaned_Text'].apply(remove_stopwords)\n",
        "news_df['Text_No_Stopwords'] = news_df['Cleaned_Text'].apply(remove_stopwords)"
      ],
      "metadata": {
        "colab": {
          "base_uri": "https://localhost:8080/"
        },
        "id": "bO4KFevcPtae",
        "outputId": "aa504b70-a6e9-4d98-91e2-e96a4ea23be1"
      },
      "execution_count": null,
      "outputs": [
        {
          "output_type": "stream",
          "name": "stderr",
          "text": [
            "[nltk_data] Downloading package stopwords to /root/nltk_data...\n",
            "[nltk_data]   Package stopwords is already up-to-date!\n"
          ]
        }
      ]
    },
    {
      "cell_type": "code",
      "source": [
        "print(wikileaks_df[['Cleaned_Text', 'Text_No_Stopwords']].head())\n",
        "print(news_df[['Cleaned_Text', 'Text_No_Stopwords']].head())"
      ],
      "metadata": {
        "colab": {
          "base_uri": "https://localhost:8080/"
        },
        "id": "U-jrQdiGP5qS",
        "outputId": "e54d2846-ac25-4d23-9b28-7d8a13de2fac"
      },
      "execution_count": null,
      "outputs": [
        {
          "output_type": "stream",
          "name": "stdout",
          "text": [
            "                                        Cleaned_Text  \\\n",
            "0  pristina airport  possible administrative irre...   \n",
            "1  investigative details in hisher interviews con...   \n",
            "2  an interoffice memorandum providing an outstan...   \n",
            "3  allegation    specifically three of the person...   \n",
            "4  when asked about this in interview the divisio...   \n",
            "\n",
            "                                   Text_No_Stopwords  \n",
            "0  pristina airport possible administrative irreg...  \n",
            "1  investigative details hisher interviews conduc...  \n",
            "2  interoffice memorandum providing outstanding i...  \n",
            "3  allegation specifically three persons bid open...  \n",
            "4  asked interview divisional manager stated with...  \n",
            "                                        Cleaned_Text  \\\n",
            "0  starbucks violated federal labor law when it i...   \n",
            "1  the first suspect to plead guilty in singapore...   \n",
            "2  meta has been fined a recordbreaking  billion ...   \n",
            "3  singapore a yearold man linked to singapores l...   \n",
            "4  the department of education imposed a record  ...   \n",
            "\n",
            "                                   Text_No_Stopwords  \n",
            "0  starbucks violated federal labor law increased...  \n",
            "1  first suspect plead guilty singapores largest ...  \n",
            "2  meta fined recordbreaking billion billion euro...  \n",
            "3  singapore yearold man linked singapores larges...  \n",
            "4  department education imposed record million fi...  \n"
          ]
        }
      ]
    },
    {
      "cell_type": "code",
      "source": [
        "news_df.to_csv('test.csv', index=False)"
      ],
      "metadata": {
        "id": "js54qSCKROtQ"
      },
      "execution_count": null,
      "outputs": []
    },
    {
      "cell_type": "code",
      "source": [
        "from itertools import combinations\n",
        "import pandas as pd\n",
        "\n",
        "# Sample function to extract relationships based on co-occurrence\n",
        "def extract_relationships(text, entities):\n",
        "    # Find all entity pairs\n",
        "    entity_pairs = list(combinations(entities, 2))\n",
        "    return entity_pairs\n",
        "\n",
        "# Example data for entities (mock entity extraction)\n",
        "entities = [\"airport\", \"administrative\", \"division\"]\n",
        "\n",
        "# Apply to the dataset\n",
        "wikileaks_df['Relationships'] = wikileaks_df['Cleaned_Text'].apply(\n",
        "    lambda x: extract_relationships(x, entities)  # Replace `entities` with actual entity extraction logic\n",
        ")\n"
      ],
      "metadata": {
        "id": "5QmwsxyzRf4q"
      },
      "execution_count": null,
      "outputs": []
    },
    {
      "cell_type": "code",
      "source": [
        "from collections import Counter\n",
        "\n",
        "# Flatten relationships from all rows\n",
        "all_relationships = [rel for sublist in wikileaks_df['Relationships'] for rel in sublist]\n",
        "relationship_counts = Counter(all_relationships)\n",
        "\n",
        "# Convert to a DataFrame\n",
        "relationship_df = pd.DataFrame(relationship_counts.items(), columns=[\"Entity Pair\", \"Count\"])\n",
        "print(relationship_df)\n"
      ],
      "metadata": {
        "colab": {
          "base_uri": "https://localhost:8080/"
        },
        "id": "F9JMi0XcRiTs",
        "outputId": "0eb212ab-3233-4b4c-a816-5e0cd98b2a18"
      },
      "execution_count": null,
      "outputs": [
        {
          "output_type": "stream",
          "name": "stdout",
          "text": [
            "                  Entity Pair  Count\n",
            "0   (airport, administrative)    143\n",
            "1         (airport, division)    143\n",
            "2  (administrative, division)    143\n"
          ]
        }
      ]
    },
    {
      "cell_type": "code",
      "source": [
        "import networkx as nx\n",
        "import matplotlib.pyplot as plt\n",
        "\n",
        "# Create a graph\n",
        "G = nx.Graph()\n",
        "\n",
        "# Add edges with weights\n",
        "for (entity1, entity2), count in relationship_counts.items():\n",
        "    G.add_edge(entity1, entity2, weight=count)\n",
        "\n",
        "# Draw the graph\n",
        "plt.figure(figsize=(12, 8))\n",
        "pos = nx.spring_layout(G, k=0.5)\n",
        "nx.draw(\n",
        "    G, pos, with_labels=True, node_size=3000, node_color=\"lightblue\",\n",
        "    font_size=10, font_weight=\"bold\", edge_color=\"gray\"\n",
        ")\n",
        "labels = nx.get_edge_attributes(G, 'weight')\n",
        "nx.draw_networkx_edge_labels(G, pos, edge_labels=labels)\n",
        "plt.title(\"Entity Relationship Graph\")\n",
        "plt.show()\n"
      ],
      "metadata": {
        "id": "GJMQB_KFRkQ-",
        "outputId": "f88391bd-8dc9-4c28-ff4d-466f5312b359",
        "colab": {
          "base_uri": "https://localhost:8080/",
          "height": 785
        }
      },
      "execution_count": null,
      "outputs": [
        {
          "output_type": "display_data",
          "data": {
            "text/plain": [
              "<Figure size 1200x800 with 1 Axes>"
            ],
            "image/png": "[encoded data removed]"
          },
          "metadata": {}
        }
      ]
    }
  ]
}